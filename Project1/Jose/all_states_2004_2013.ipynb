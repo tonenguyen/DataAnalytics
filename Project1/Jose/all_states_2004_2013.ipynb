{
 "cells": [
  {
   "cell_type": "code",
   "execution_count": 30,
   "metadata": {},
   "outputs": [
    {
     "data": {
      "text/html": [
       "<script type=\"text/javascript\">window.PlotlyConfig = {MathJaxConfig: 'local'};</script><script type=\"text/javascript\">if (window.MathJax) {MathJax.Hub.Config({SVG: {font: \"STIX-Web\"}});}</script><script>requirejs.config({paths: { 'plotly': ['https://cdn.plot.ly/plotly-latest.min']},});if(!window._Plotly) {require(['plotly'],function(plotly) {window._Plotly=plotly;});}</script>"
      ],
      "text/vnd.plotly.v1+html": [
       "<script type=\"text/javascript\">window.PlotlyConfig = {MathJaxConfig: 'local'};</script><script type=\"text/javascript\">if (window.MathJax) {MathJax.Hub.Config({SVG: {font: \"STIX-Web\"}});}</script><script>requirejs.config({paths: { 'plotly': ['https://cdn.plot.ly/plotly-latest.min']},});if(!window._Plotly) {require(['plotly'],function(plotly) {window._Plotly=plotly;});}</script>"
      ]
     },
     "metadata": {},
     "output_type": "display_data"
    }
   ],
   "source": [
    "import pandas as pd\n",
    "import numpy as np\n",
    "\n",
    "import plotly\n",
    "import plotly.plotly as py\n",
    "import plotly.graph_objs as go\n",
    "import plotly.io as pio\n",
    "import plotly.tools as tls\n",
    "\n",
    "tls.set_credentials_file(username='jmpichar', api_key='6j8xqqVZuzkahnBKzJDk')\n",
    "plotly.offline.init_notebook_mode(connected=True)\n"
   ]
  },
  {
   "cell_type": "markdown",
   "metadata": {},
   "source": [
    "## Load CSV of diabetes data from 2004 to 2013"
   ]
  },
  {
   "cell_type": "code",
   "execution_count": 31,
   "metadata": {},
   "outputs": [
    {
     "data": {
      "text/html": [
       "<div>\n",
       "<style scoped>\n",
       "    .dataframe tbody tr th:only-of-type {\n",
       "        vertical-align: middle;\n",
       "    }\n",
       "\n",
       "    .dataframe tbody tr th {\n",
       "        vertical-align: top;\n",
       "    }\n",
       "\n",
       "    .dataframe thead th {\n",
       "        text-align: right;\n",
       "    }\n",
       "</style>\n",
       "<table border=\"1\" class=\"dataframe\">\n",
       "  <thead>\n",
       "    <tr style=\"text-align: right;\">\n",
       "      <th></th>\n",
       "      <th>State</th>\n",
       "      <th>2004</th>\n",
       "      <th>2005</th>\n",
       "      <th>2006</th>\n",
       "      <th>2007</th>\n",
       "      <th>2008</th>\n",
       "      <th>2009</th>\n",
       "      <th>2010</th>\n",
       "      <th>2011</th>\n",
       "      <th>2012</th>\n",
       "      <th>2013</th>\n",
       "    </tr>\n",
       "  </thead>\n",
       "  <tbody>\n",
       "    <tr>\n",
       "      <th>0</th>\n",
       "      <td>Alabama</td>\n",
       "      <td>9.946269</td>\n",
       "      <td>10.505970</td>\n",
       "      <td>11.656716</td>\n",
       "      <td>12.474627</td>\n",
       "      <td>13.055224</td>\n",
       "      <td>13.897015</td>\n",
       "      <td>14.082090</td>\n",
       "      <td>14.477612</td>\n",
       "      <td>15.040299</td>\n",
       "      <td>15.489552</td>\n",
       "    </tr>\n",
       "    <tr>\n",
       "      <th>1</th>\n",
       "      <td>Alaska</td>\n",
       "      <td>5.366667</td>\n",
       "      <td>5.766667</td>\n",
       "      <td>5.716667</td>\n",
       "      <td>6.166667</td>\n",
       "      <td>6.450000</td>\n",
       "      <td>6.933333</td>\n",
       "      <td>7.283333</td>\n",
       "      <td>6.783333</td>\n",
       "      <td>6.816667</td>\n",
       "      <td>6.700000</td>\n",
       "    </tr>\n",
       "    <tr>\n",
       "      <th>2</th>\n",
       "      <td>Arizona</td>\n",
       "      <td>7.673333</td>\n",
       "      <td>8.000000</td>\n",
       "      <td>8.560000</td>\n",
       "      <td>9.106667</td>\n",
       "      <td>9.413333</td>\n",
       "      <td>9.960000</td>\n",
       "      <td>10.080000</td>\n",
       "      <td>10.460000</td>\n",
       "      <td>10.600000</td>\n",
       "      <td>11.093333</td>\n",
       "    </tr>\n",
       "  </tbody>\n",
       "</table>\n",
       "</div>"
      ],
      "text/plain": [
       "     State      2004       2005       2006       2007       2008       2009  \\\n",
       "0  Alabama  9.946269  10.505970  11.656716  12.474627  13.055224  13.897015   \n",
       "1   Alaska  5.366667   5.766667   5.716667   6.166667   6.450000   6.933333   \n",
       "2  Arizona  7.673333   8.000000   8.560000   9.106667   9.413333   9.960000   \n",
       "\n",
       "        2010       2011       2012       2013  \n",
       "0  14.082090  14.477612  15.040299  15.489552  \n",
       "1   7.283333   6.783333   6.816667   6.700000  \n",
       "2  10.080000  10.460000  10.600000  11.093333  "
      ]
     },
     "execution_count": 31,
     "metadata": {},
     "output_type": "execute_result"
    }
   ],
   "source": [
    "#states_df = pd.read_csv('./Resources/DM_PREV_ALL_STATES.csv')\n",
    "states_df = pd.read_csv('./Resources/us_diabetes_2004_2013.csv')\n",
    "states_df.head(3)"
   ]
  },
  {
   "cell_type": "markdown",
   "metadata": {},
   "source": [
    "## Load CSV with State Abbreviations"
   ]
  },
  {
   "cell_type": "code",
   "execution_count": 32,
   "metadata": {},
   "outputs": [],
   "source": [
    "abrev_df = pd.read_csv('./Resources/list-states-abbreviation.csv')\n",
    "abrev_df = abrev_df[['State','Abbr.']].set_index('State')"
   ]
  },
  {
   "cell_type": "markdown",
   "metadata": {},
   "source": [
    "### Add column with State code"
   ]
  },
  {
   "cell_type": "code",
   "execution_count": 33,
   "metadata": {},
   "outputs": [],
   "source": [
    "states_df['code'] = 'NA'"
   ]
  },
  {
   "cell_type": "markdown",
   "metadata": {},
   "source": [
    "## Update State Codes"
   ]
  },
  {
   "cell_type": "code",
   "execution_count": 34,
   "metadata": {},
   "outputs": [],
   "source": [
    "for index,row in states_df.iterrows():\n",
    "    state = row['State']\n",
    "    #county = row['County']\n",
    "    abrev = abrev_df.loc[state][0]\n",
    "    states_df.loc[index, 'code'] = abrev\n",
    "    #print(f'{state}: abreviation: {abrev}')\n",
    "    "
   ]
  },
  {
   "cell_type": "code",
   "execution_count": 35,
   "metadata": {},
   "outputs": [],
   "source": [
    "scl = [\n",
    "    [0.0, 'rgb(255,215,0)'],\n",
    "    [0.25, 'rgb(255,165,0)'],\n",
    "    [0.5,  'rgb(255,135,0)'],\n",
    "    [0.75, 'rgb(255,75,0)'],\n",
    "    [1.0,  'rgb(255,45,0)']\n",
    "]"
   ]
  },
  {
   "cell_type": "code",
   "execution_count": null,
   "metadata": {},
   "outputs": [],
   "source": []
  },
  {
   "cell_type": "code",
   "execution_count": 36,
   "metadata": {},
   "outputs": [],
   "source": [
    "#states_df = states_df[~(states_df['2013'] == 'No Data')]\n",
    "#states_df.to_csv('./Resources/tst_diabetes_states.csv')\n",
    "#states_df[states_df['FIPS Codes'] == 27071]\n",
    "#states_df"
   ]
  },
  {
   "cell_type": "code",
   "execution_count": 37,
   "metadata": {},
   "outputs": [],
   "source": [
    "data = [go.Choropleth(\n",
    "    colorscale = scl,\n",
    "    autocolorscale = False,\n",
    "    locations = states_df['code'],\n",
    "    z = states_df['2013'].astype(float),\n",
    "    locationmode = 'USA-states',\n",
    "    text = states_df['State'],\n",
    "    marker = go.choropleth.Marker(\n",
    "        line = go.choropleth.marker.Line(\n",
    "            color = 'rgb(255,255,255)',\n",
    "            width = 2\n",
    "        )),\n",
    "    colorbar = go.choropleth.ColorBar(\n",
    "        title = \"Thousands USD\")\n",
    ")]"
   ]
  },
  {
   "cell_type": "code",
   "execution_count": 38,
   "metadata": {},
   "outputs": [],
   "source": [
    "layout = go.Layout(\n",
    "    title = go.layout.Title(\n",
    "        text = 'Diabetes Prevalance in the US by State<br>(Hover for breakdown)'\n",
    "    ),\n",
    "    geo = go.layout.Geo(\n",
    "        scope = 'usa',\n",
    "        projection = dict(type = 'albers usa'),\n",
    "        showlakes = True,\n",
    "        lakecolor = 'rgb(66, 165, 245)'),\n",
    ")"
   ]
  },
  {
   "cell_type": "code",
   "execution_count": 43,
   "metadata": {},
   "outputs": [
    {
     "name": "stderr",
     "output_type": "stream",
     "text": [
      "/home/jmpichar/.local/lib/python3.6/site-packages/IPython/core/display.py:689: UserWarning:\n",
      "\n",
      "Consider using IPython.display.IFrame instead\n",
      "\n"
     ]
    },
    {
     "data": {
      "text/html": [
       "<iframe id=\"igraph\" scrolling=\"no\" style=\"border:none;\" seamless=\"seamless\" src=\"https://plot.ly/~jmpichar/4.embed\" height=\"525px\" width=\"100%\"></iframe>"
      ],
      "text/plain": [
       "<plotly.tools.PlotlyDisplay object>"
      ]
     },
     "execution_count": 43,
     "metadata": {},
     "output_type": "execute_result"
    }
   ],
   "source": [
    "#fig = dict(data=data, layout=layout)\n",
    "fig = go.Figure(data = data, layout = layout)\n",
    "py.iplot(fig, filename='d3-cloropleth-map')"
   ]
  },
  {
   "cell_type": "markdown",
   "metadata": {},
   "source": [
    "## Show Prevalence Over Time"
   ]
  },
  {
   "cell_type": "code",
   "execution_count": 86,
   "metadata": {},
   "outputs": [
    {
     "data": {
      "image/png": "[encoded data removed]",
      "text/plain": [
       "<Figure size 432x288 with 1 Axes>"
      ]
     },
     "metadata": {
      "needs_background": "light"
     },
     "output_type": "display_data"
    }
   ],
   "source": [
    "import matplotlib\n",
    "import matplotlib.pyplot as plt\n",
    "import numpy as np\n",
    "\n",
    "# Data for plotting\n",
    "line = states_df.mean()\n",
    "\n",
    "\n",
    "fig, ax = plt.subplots()\n",
    "ax.plot(line.index, line.values)\n",
    "\n",
    "ax.set(xlabel='Years', ylabel='Prevalence in %',\n",
    "       title='US Diabetes Prevalence 2004-2013')\n",
    "ax.grid()\n",
    "\n",
    "fig.savefig(\"./Images/line_2004_2013.png\")\n",
    "plt.show()"
   ]
  },
  {
   "cell_type": "code",
   "execution_count": null,
   "metadata": {},
   "outputs": [],
   "source": []
  },
  {
   "cell_type": "code",
   "execution_count": 87,
   "metadata": {},
   "outputs": [
    {
     "data": {
      "image/png": "[encoded data removed]",
      "text/plain": [
       "<Figure size 432x288 with 1 Axes>"
      ]
     },
     "metadata": {
      "needs_background": "light"
     },
     "output_type": "display_data"
    }
   ],
   "source": [
    "# Data for plotting\n",
    "line = states_df.mean()\n",
    "\n",
    "\n",
    "fig, ax = plt.subplots()\n",
    "ax.bar(line.index, line.values)\n",
    "\n",
    "ax.set(xlabel='Years', ylabel='Prevalence in %',\n",
    "       title='US Diabetes Prevalence 2004-2013')\n",
    "#ax.grid()\n",
    "\n",
    "fig.savefig(\"./Images/line_2004_2013.png\")\n",
    "plt.show()"
   ]
  },
  {
   "cell_type": "code",
   "execution_count": 88,
   "metadata": {},
   "outputs": [
    {
     "data": {
      "image/png": "[encoded data removed]",
      "text/plain": [
       "<Figure size 432x288 with 1 Axes>"
      ]
     },
     "metadata": {
      "needs_background": "light"
     },
     "output_type": "display_data"
    }
   ],
   "source": [
    "# Data for plotting\n",
    "line = states_df.mean()\n",
    "\n",
    "\n",
    "fig, ax = plt.subplots()\n",
    "ax.barh(line.index, line.values)\n",
    "\n",
    "ax.set(ylabel='Years', xlabel='Prevalence in %',\n",
    "       title='US Diabetes Prevalence 2004-2013')\n",
    "\n",
    "fig.savefig(\"./Images/bar_2004_2013.png\")\n",
    "plt.show()"
   ]
  },
  {
   "cell_type": "code",
   "execution_count": null,
   "metadata": {},
   "outputs": [],
   "source": []
  },
  {
   "cell_type": "code",
   "execution_count": 92,
   "metadata": {},
   "outputs": [
    {
     "data": {
      "text/html": [
       "<div>\n",
       "<style scoped>\n",
       "    .dataframe tbody tr th:only-of-type {\n",
       "        vertical-align: middle;\n",
       "    }\n",
       "\n",
       "    .dataframe tbody tr th {\n",
       "        vertical-align: top;\n",
       "    }\n",
       "\n",
       "    .dataframe thead th {\n",
       "        text-align: right;\n",
       "    }\n",
       "</style>\n",
       "<table border=\"1\" class=\"dataframe\">\n",
       "  <thead>\n",
       "    <tr style=\"text-align: right;\">\n",
       "      <th></th>\n",
       "      <th>State</th>\n",
       "      <th>2004</th>\n",
       "      <th>2005</th>\n",
       "      <th>2006</th>\n",
       "      <th>2007</th>\n",
       "      <th>2008</th>\n",
       "      <th>2009</th>\n",
       "      <th>2010</th>\n",
       "      <th>2011</th>\n",
       "      <th>2012</th>\n",
       "      <th>2013</th>\n",
       "      <th>code</th>\n",
       "    </tr>\n",
       "  </thead>\n",
       "  <tbody>\n",
       "    <tr>\n",
       "      <th>0</th>\n",
       "      <td>Alabama</td>\n",
       "      <td>9.946269</td>\n",
       "      <td>10.50597</td>\n",
       "      <td>11.656716</td>\n",
       "      <td>12.474627</td>\n",
       "      <td>13.055224</td>\n",
       "      <td>13.897015</td>\n",
       "      <td>14.08209</td>\n",
       "      <td>14.477612</td>\n",
       "      <td>15.040299</td>\n",
       "      <td>15.489552</td>\n",
       "      <td>AL</td>\n",
       "    </tr>\n",
       "  </tbody>\n",
       "</table>\n",
       "</div>"
      ],
      "text/plain": [
       "     State      2004      2005       2006       2007       2008       2009  \\\n",
       "0  Alabama  9.946269  10.50597  11.656716  12.474627  13.055224  13.897015   \n",
       "\n",
       "       2010       2011       2012       2013 code  \n",
       "0  14.08209  14.477612  15.040299  15.489552   AL  "
      ]
     },
     "execution_count": 92,
     "metadata": {},
     "output_type": "execute_result"
    }
   ],
   "source": [
    "states_df.head(1)"
   ]
  },
  {
   "cell_type": "code",
   "execution_count": 103,
   "metadata": {},
   "outputs": [
    {
     "data": {
      "text/html": [
       "<div>\n",
       "<style scoped>\n",
       "    .dataframe tbody tr th:only-of-type {\n",
       "        vertical-align: middle;\n",
       "    }\n",
       "\n",
       "    .dataframe tbody tr th {\n",
       "        vertical-align: top;\n",
       "    }\n",
       "\n",
       "    .dataframe thead th {\n",
       "        text-align: right;\n",
       "    }\n",
       "</style>\n",
       "<table border=\"1\" class=\"dataframe\">\n",
       "  <thead>\n",
       "    <tr style=\"text-align: right;\">\n",
       "      <th></th>\n",
       "      <th>2013</th>\n",
       "    </tr>\n",
       "    <tr>\n",
       "      <th>State</th>\n",
       "      <th></th>\n",
       "    </tr>\n",
       "  </thead>\n",
       "  <tbody>\n",
       "    <tr>\n",
       "      <th>Alabama</th>\n",
       "      <td>15.489552</td>\n",
       "    </tr>\n",
       "    <tr>\n",
       "      <th>Alaska</th>\n",
       "      <td>6.700000</td>\n",
       "    </tr>\n",
       "    <tr>\n",
       "      <th>Arizona</th>\n",
       "      <td>11.093333</td>\n",
       "    </tr>\n",
       "  </tbody>\n",
       "</table>\n",
       "</div>"
      ],
      "text/plain": [
       "              2013\n",
       "State             \n",
       "Alabama  15.489552\n",
       "Alaska    6.700000\n",
       "Arizona  11.093333"
      ]
     },
     "execution_count": 103,
     "metadata": {},
     "output_type": "execute_result"
    }
   ],
   "source": [
    "df1 = states_df[['State','2013']].set_index('State')\n",
    "df1.head(3)"
   ]
  },
  {
   "cell_type": "code",
   "execution_count": 104,
   "metadata": {},
   "outputs": [
    {
     "data": {
      "text/plain": [
       "Index(['Alabama', 'Alaska', 'Arizona', 'Arkansas', 'California', 'Colorado',\n",
       "       'Connecticut', 'Delaware', 'Florida', 'Georgia', 'Hawaii', 'Idaho',\n",
       "       'Illinois', 'Indiana', 'Iowa', 'Kansas', 'Kentucky', 'Louisiana',\n",
       "       'Maine', 'Maryland', 'Massachusetts', 'Michigan', 'Minnesota',\n",
       "       'Mississippi', 'Missouri', 'Montana', 'Nebraska', 'Nevada',\n",
       "       'New Hampshire', 'New Jersey', 'New Mexico', 'New York',\n",
       "       'North Carolina', 'North Dakota', 'Ohio', 'Oklahoma', 'Oregon',\n",
       "       'Pennsylvania', 'Rhode Island', 'South Carolina', 'South Dakota',\n",
       "       'Tennessee', 'Texas', 'Utah', 'Vermont', 'Virginia', 'Washington',\n",
       "       'West Virginia', 'Wisconsin', 'Wyoming'],\n",
       "      dtype='object', name='State')"
      ]
     },
     "execution_count": 104,
     "metadata": {},
     "output_type": "execute_result"
    }
   ],
   "source": [
    "df1.index"
   ]
  },
  {
   "cell_type": "code",
   "execution_count": 112,
   "metadata": {},
   "outputs": [
    {
     "data": {
      "text/plain": [
       "pandas.core.frame.DataFrame"
      ]
     },
     "execution_count": 112,
     "metadata": {},
     "output_type": "execute_result"
    }
   ],
   "source": [
    "ty"
   ]
  },
  {
   "cell_type": "code",
   "execution_count": 28,
   "metadata": {},
   "outputs": [
    {
     "data": {
      "image/png": "[encoded data removed]",
      "text/plain": [
       "<Figure size 1440x1440 with 1 Axes>"
      ]
     },
     "metadata": {
      "needs_background": "light"
     },
     "output_type": "display_data"
    }
   ],
   "source": [
    "df1 = states_df[['State','2013']].set_index('State').sort_values('2013')\n",
    "import matplotlib.pyplot as plt\n",
    "\n",
    "#df1.index\n",
    "#df1.values\n",
    "#plt.subplots()\n",
    "plt.figure(figsize=(20,20))\n",
    "\n",
    "plt.barh(df1.index, df1['2013'])\n",
    "plt.title('US Diabetes Prevalence by Sate for 2013')\n",
    "plt.xlabel(\"Prevalence in %\")\n",
    "plt.ylabel(\"Sates\")\n",
    "plt.savefig(\"./Images/barh_2013.png\")\n",
    "\n",
    "#plt.show()"
   ]
  },
  {
   "cell_type": "code",
   "execution_count": 88,
   "metadata": {},
   "outputs": [
    {
     "data": {
      "image/png": "[encoded data removed]",
      "text/plain": [
       "<Figure size 432x288 with 1 Axes>"
      ]
     },
     "metadata": {
      "needs_background": "light"
     },
     "output_type": "display_data"
    }
   ],
   "source": [
    "# Data for plotting\n",
    "line = states_df.mean()\n",
    "\n",
    "\n",
    "fig, ax = plt.subplots()\n",
    "ax.barh(line.index, line.values)\n",
    "\n",
    "ax.set(ylabel='Years', xlabel='Prevalence in %',\n",
    "       title='US Diabetes Prevalence 2004-2013')\n",
    "\n",
    "fig.savefig(\"./Images/bar_2004_2013.png\")\n",
    "plt.show()"
   ]
  },
  {
   "cell_type": "code",
   "execution_count": 88,
   "metadata": {},
   "outputs": [
    {
     "data": {
      "image/png": "[encoded data removed]",
      "text/plain": [
       "<Figure size 432x288 with 1 Axes>"
      ]
     },
     "metadata": {
      "needs_background": "light"
     },
     "output_type": "display_data"
    }
   ],
   "source": [
    "# Data for plotting\n",
    "line = states_df.mean()\n",
    "\n",
    "\n",
    "fig, ax = plt.subplots()\n",
    "ax.barh(line.index, line.values)\n",
    "\n",
    "ax.set(ylabel='Years', xlabel='Prevalence in %',\n",
    "       title='US Diabetes Prevalence 2004-2013')\n",
    "\n",
    "fig.savefig(\"./Images/bar_2004_2013.png\")\n",
    "plt.show()"
   ]
  },
  {
   "cell_type": "code",
   "execution_count": null,
   "metadata": {},
   "outputs": [],
   "source": []
  },
  {
   "cell_type": "code",
   "execution_count": null,
   "metadata": {},
   "outputs": [],
   "source": []
  }
 ],
 "metadata": {
  "kernelspec": {
   "display_name": "Python 3",
   "language": "python",
   "name": "python3"
  },
  "language_info": {
   "codemirror_mode": {
    "name": "ipython",
    "version": 3
   },
   "file_extension": ".py",
   "mimetype": "text/x-python",
   "name": "python",
   "nbconvert_exporter": "python",
   "pygments_lexer": "ipython3",
   "version": "3.6.5"
  }
 },
 "nbformat": 4,
 "nbformat_minor": 2
}
