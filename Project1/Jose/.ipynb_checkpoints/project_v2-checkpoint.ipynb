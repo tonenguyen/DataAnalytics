{
 "cells": [
  {
   "cell_type": "code",
   "execution_count": 290,
   "metadata": {},
   "outputs": [
    {
     "data": {
      "text/plain": [
       "(168, 11)"
      ]
     },
     "execution_count": 290,
     "metadata": {},
     "output_type": "execute_result"
    }
   ],
   "source": [
    "import pandas as pd\n",
    "import numpy as np\n",
    "import matplotlib.pyplot as plt\n",
    "import requests\n",
    "\n",
    "url = 'https://evergreen.data.socrata.com/resource/ins2-k6mg.json'\n",
    "df = pd.read_json(url, convert_dates=True)\n",
    "df.shape"
   ]
  },
  {
   "cell_type": "code",
   "execution_count": 295,
   "metadata": {},
   "outputs": [
    {
     "data": {
      "text/html": [
       "<div>\n",
       "<style scoped>\n",
       "    .dataframe tbody tr th:only-of-type {\n",
       "        vertical-align: middle;\n",
       "    }\n",
       "\n",
       "    .dataframe tbody tr th {\n",
       "        vertical-align: top;\n",
       "    }\n",
       "\n",
       "    .dataframe thead th {\n",
       "        text-align: right;\n",
       "    }\n",
       "</style>\n",
       "<table border=\"1\" class=\"dataframe\">\n",
       "  <thead>\n",
       "    <tr style=\"text-align: right;\">\n",
       "      <th></th>\n",
       "      <th>age_group</th>\n",
       "      <th>confidence_interval</th>\n",
       "      <th>confidence_interval_1</th>\n",
       "      <th>figure</th>\n",
       "      <th>figure_id</th>\n",
       "      <th>gender</th>\n",
       "      <th>metric</th>\n",
       "      <th>race_ethnicity</th>\n",
       "      <th>topic</th>\n",
       "      <th>value</th>\n",
       "      <th>year</th>\n",
       "    </tr>\n",
       "  </thead>\n",
       "  <tbody>\n",
       "    <tr>\n",
       "      <th>0</th>\n",
       "      <td>NaN</td>\n",
       "      <td>4.0</td>\n",
       "      <td>1.0</td>\n",
       "      <td>Prevalence of diabetes among adults aged 18 ye...</td>\n",
       "      <td>13.1</td>\n",
       "      <td>NaN</td>\n",
       "      <td>Crude[1] percent</td>\n",
       "      <td>NaN</td>\n",
       "      <td>Serious psychological distress</td>\n",
       "      <td>2.0</td>\n",
       "      <td>1997</td>\n",
       "    </tr>\n",
       "    <tr>\n",
       "      <th>1</th>\n",
       "      <td>NaN</td>\n",
       "      <td>8.0</td>\n",
       "      <td>4.0</td>\n",
       "      <td>Prevalence of diabetes among adults aged 18 ye...</td>\n",
       "      <td>13.1</td>\n",
       "      <td>NaN</td>\n",
       "      <td>Crude[1] percent</td>\n",
       "      <td>NaN</td>\n",
       "      <td>Serious psychological distress</td>\n",
       "      <td>5.0</td>\n",
       "      <td>1998</td>\n",
       "    </tr>\n",
       "    <tr>\n",
       "      <th>2</th>\n",
       "      <td>NaN</td>\n",
       "      <td>5.0</td>\n",
       "      <td>1.0</td>\n",
       "      <td>Prevalence of diabetes among adults aged 18 ye...</td>\n",
       "      <td>13.1</td>\n",
       "      <td>NaN</td>\n",
       "      <td>Crude[1] percent</td>\n",
       "      <td>NaN</td>\n",
       "      <td>Serious psychological distress</td>\n",
       "      <td>2.0</td>\n",
       "      <td>1999</td>\n",
       "    </tr>\n",
       "  </tbody>\n",
       "</table>\n",
       "</div>"
      ],
      "text/plain": [
       "  age_group  confidence_interval  confidence_interval_1  \\\n",
       "0       NaN                  4.0                    1.0   \n",
       "1       NaN                  8.0                    4.0   \n",
       "2       NaN                  5.0                    1.0   \n",
       "\n",
       "                                              figure  figure_id gender  \\\n",
       "0  Prevalence of diabetes among adults aged 18 ye...       13.1    NaN   \n",
       "1  Prevalence of diabetes among adults aged 18 ye...       13.1    NaN   \n",
       "2  Prevalence of diabetes among adults aged 18 ye...       13.1    NaN   \n",
       "\n",
       "             metric race_ethnicity                           topic  value  \\\n",
       "0  Crude[1] percent            NaN  Serious psychological distress    2.0   \n",
       "1  Crude[1] percent            NaN  Serious psychological distress    5.0   \n",
       "2  Crude[1] percent            NaN  Serious psychological distress    2.0   \n",
       "\n",
       "   year  \n",
       "0  1997  \n",
       "1  1998  \n",
       "2  1999  "
      ]
     },
     "execution_count": 295,
     "metadata": {},
     "output_type": "execute_result"
    }
   ],
   "source": [
    "df.head(3)"
   ]
  },
  {
   "cell_type": "code",
   "execution_count": 296,
   "metadata": {},
   "outputs": [
    {
     "data": {
      "text/plain": [
       "Index(['age_group', 'confidence_interval', 'confidence_interval_1', 'figure',\n",
       "       'figure_id', 'gender', 'metric', 'race_ethnicity', 'topic', 'value',\n",
       "       'year'],\n",
       "      dtype='object')"
      ]
     },
     "execution_count": 296,
     "metadata": {},
     "output_type": "execute_result"
    }
   ],
   "source": [
    "df.columns"
   ]
  },
  {
   "cell_type": "code",
   "execution_count": null,
   "metadata": {},
   "outputs": [],
   "source": [
    "black = df[df['race_ethnicity'] == 'Black']"
   ]
  },
  {
   "cell_type": "code",
   "execution_count": 297,
   "metadata": {},
   "outputs": [
    {
     "data": {
      "text/html": [
       "<div>\n",
       "<style scoped>\n",
       "    .dataframe tbody tr th:only-of-type {\n",
       "        vertical-align: middle;\n",
       "    }\n",
       "\n",
       "    .dataframe tbody tr th {\n",
       "        vertical-align: top;\n",
       "    }\n",
       "\n",
       "    .dataframe thead th {\n",
       "        text-align: right;\n",
       "    }\n",
       "</style>\n",
       "<table border=\"1\" class=\"dataframe\">\n",
       "  <thead>\n",
       "    <tr style=\"text-align: right;\">\n",
       "      <th></th>\n",
       "      <th>age_group</th>\n",
       "      <th>confidence_interval</th>\n",
       "      <th>confidence_interval_1</th>\n",
       "      <th>figure</th>\n",
       "      <th>figure_id</th>\n",
       "      <th>gender</th>\n",
       "      <th>metric</th>\n",
       "      <th>race_ethnicity</th>\n",
       "      <th>topic</th>\n",
       "      <th>value</th>\n",
       "      <th>year</th>\n",
       "    </tr>\n",
       "  </thead>\n",
       "  <tbody>\n",
       "    <tr>\n",
       "      <th>55</th>\n",
       "      <td>NaN</td>\n",
       "      <td>6.00</td>\n",
       "      <td>3.00</td>\n",
       "      <td>Age-sex-adjusted percentage of adults aged 18 ...</td>\n",
       "      <td>13.3</td>\n",
       "      <td>NaN</td>\n",
       "      <td>NaN</td>\n",
       "      <td>Black</td>\n",
       "      <td>Serious psychological distress</td>\n",
       "      <td>4.000000</td>\n",
       "      <td>2015</td>\n",
       "    </tr>\n",
       "    <tr>\n",
       "      <th>111</th>\n",
       "      <td>NaN</td>\n",
       "      <td>13.51</td>\n",
       "      <td>11.43</td>\n",
       "      <td>Age-sex-adjusted prevalence of diabetes among ...</td>\n",
       "      <td>14.3</td>\n",
       "      <td>NaN</td>\n",
       "      <td>NaN</td>\n",
       "      <td>Black</td>\n",
       "      <td>Diagnosed diabetes</td>\n",
       "      <td>12.473341</td>\n",
       "      <td>2015</td>\n",
       "    </tr>\n",
       "    <tr>\n",
       "      <th>167</th>\n",
       "      <td>NaN</td>\n",
       "      <td>9.00</td>\n",
       "      <td>6.00</td>\n",
       "      <td>Sex-adjusted percentage of persons of all ages...</td>\n",
       "      <td>15.3</td>\n",
       "      <td>NaN</td>\n",
       "      <td>NaN</td>\n",
       "      <td>Black</td>\n",
       "      <td>Asthma</td>\n",
       "      <td>7.000000</td>\n",
       "      <td>2015</td>\n",
       "    </tr>\n",
       "  </tbody>\n",
       "</table>\n",
       "</div>"
      ],
      "text/plain": [
       "    age_group  confidence_interval  confidence_interval_1  \\\n",
       "55        NaN                 6.00                   3.00   \n",
       "111       NaN                13.51                  11.43   \n",
       "167       NaN                 9.00                   6.00   \n",
       "\n",
       "                                                figure  figure_id gender  \\\n",
       "55   Age-sex-adjusted percentage of adults aged 18 ...       13.3    NaN   \n",
       "111  Age-sex-adjusted prevalence of diabetes among ...       14.3    NaN   \n",
       "167  Sex-adjusted percentage of persons of all ages...       15.3    NaN   \n",
       "\n",
       "    metric race_ethnicity                           topic      value  year  \n",
       "55     NaN          Black  Serious psychological distress   4.000000  2015  \n",
       "111    NaN          Black              Diagnosed diabetes  12.473341  2015  \n",
       "167    NaN          Black                          Asthma   7.000000  2015  "
      ]
     },
     "execution_count": 297,
     "metadata": {},
     "output_type": "execute_result"
    }
   ],
   "source": [
    "black"
   ]
  },
  {
   "cell_type": "code",
   "execution_count": 314,
   "metadata": {},
   "outputs": [],
   "source": [
    "# df_tmp = df[(df['race_ethnicity'] == 'Hispanic') | \\\n",
    "#          (df['race_ethnicity'] == 'White') | \\\n",
    "#         (df['race_ethnicity'] == 'Black')]\n",
    "# df_tmp\n",
    "\n",
    "\n",
    "race_list = ['Black', 'White']\n",
    "new_df = df[df.race_ethnicity.isin(race_list)]"
   ]
  },
  {
   "cell_type": "code",
   "execution_count": 316,
   "metadata": {},
   "outputs": [
    {
     "data": {
      "text/html": [
       "<div>\n",
       "<style scoped>\n",
       "    .dataframe tbody tr th:only-of-type {\n",
       "        vertical-align: middle;\n",
       "    }\n",
       "\n",
       "    .dataframe tbody tr th {\n",
       "        vertical-align: top;\n",
       "    }\n",
       "\n",
       "    .dataframe thead th {\n",
       "        text-align: right;\n",
       "    }\n",
       "</style>\n",
       "<table border=\"1\" class=\"dataframe\">\n",
       "  <thead>\n",
       "    <tr style=\"text-align: right;\">\n",
       "      <th></th>\n",
       "      <th>age_group</th>\n",
       "      <th>confidence_interval</th>\n",
       "      <th>confidence_interval_1</th>\n",
       "      <th>figure</th>\n",
       "      <th>figure_id</th>\n",
       "      <th>gender</th>\n",
       "      <th>metric</th>\n",
       "      <th>race_ethnicity</th>\n",
       "      <th>topic</th>\n",
       "      <th>value</th>\n",
       "      <th>year</th>\n",
       "    </tr>\n",
       "  </thead>\n",
       "  <tbody>\n",
       "  </tbody>\n",
       "</table>\n",
       "</div>"
      ],
      "text/plain": [
       "Empty DataFrame\n",
       "Columns: [age_group, confidence_interval, confidence_interval_1, figure, figure_id, gender, metric, race_ethnicity, topic, value, year]\n",
       "Index: []"
      ]
     },
     "execution_count": 316,
     "metadata": {},
     "output_type": "execute_result"
    }
   ],
   "source": []
  },
  {
   "cell_type": "code",
   "execution_count": 291,
   "metadata": {},
   "outputs": [
    {
     "data": {
      "text/plain": [
       "(19, 11)"
      ]
     },
     "execution_count": 291,
     "metadata": {},
     "output_type": "execute_result"
    }
   ],
   "source": [
    "diabetes_df = df[(df['topic'] == 'Diagnosed diabetes') & (df['metric'] == 'Crude[1] percent')]\n",
    "diabetes_df.shape\n",
    "#diabetes_df.head()"
   ]
  },
  {
   "cell_type": "code",
   "execution_count": 292,
   "metadata": {},
   "outputs": [],
   "source": [
    "years = diabetes_df['year'].tolist()\n",
    "values = diabetes_df['value'].tolist()\n",
    "cil_upper = diabetes_df['confidence_interval'].tolist()\n",
    "cil_lower = diabetes_df['confidence_interval_1'].tolist()\n",
    "#cil_upper"
   ]
  },
  {
   "cell_type": "code",
   "execution_count": null,
   "metadata": {},
   "outputs": [],
   "source": []
  },
  {
   "cell_type": "code",
   "execution_count": 1,
   "metadata": {
    "scrolled": true
   },
   "outputs": [
    {
     "ename": "NameError",
     "evalue": "name 'diabetes_df' is not defined",
     "output_type": "error",
     "traceback": [
      "\u001b[0;31m---------------------------------------------------------------------------\u001b[0m",
      "\u001b[0;31mNameError\u001b[0m                                 Traceback (most recent call last)",
      "\u001b[0;32m<ipython-input-1-f49acb654f75>\u001b[0m in \u001b[0;36m<module>\u001b[0;34m\u001b[0m\n\u001b[0;32m----> 1\u001b[0;31m \u001b[0mdf_plot\u001b[0m \u001b[0;34m=\u001b[0m \u001b[0mdiabetes_df\u001b[0m\u001b[0;34m[\u001b[0m\u001b[0;34m[\u001b[0m\u001b[0;34m'year'\u001b[0m\u001b[0;34m,\u001b[0m \u001b[0;34m'value'\u001b[0m\u001b[0;34m,\u001b[0m \u001b[0;34m'confidence_interval'\u001b[0m\u001b[0;34m,\u001b[0m \u001b[0;34m'confidence_interval_1'\u001b[0m\u001b[0;34m]\u001b[0m\u001b[0;34m]\u001b[0m\u001b[0;34m\u001b[0m\u001b[0m\n\u001b[0m\u001b[1;32m      2\u001b[0m \u001b[0mdf_plot\u001b[0m \u001b[0;34m=\u001b[0m \u001b[0mdf_plot\u001b[0m\u001b[0;34m.\u001b[0m\u001b[0mset_index\u001b[0m\u001b[0;34m(\u001b[0m\u001b[0;34m'year'\u001b[0m\u001b[0;34m)\u001b[0m\u001b[0;34m\u001b[0m\u001b[0m\n\u001b[1;32m      3\u001b[0m \u001b[0;34m\u001b[0m\u001b[0m\n\u001b[1;32m      4\u001b[0m \u001b[0mtemp\u001b[0m \u001b[0;34m=\u001b[0m \u001b[0;34m[\u001b[0m\u001b[0mdf_plot\u001b[0m\u001b[0;34m[\u001b[0m\u001b[0;34m[\u001b[0m\u001b[0mcol\u001b[0m\u001b[0;34m]\u001b[0m\u001b[0;34m]\u001b[0m \u001b[0;32mfor\u001b[0m \u001b[0mcol\u001b[0m \u001b[0;32min\u001b[0m \u001b[0mdf_plot\u001b[0m\u001b[0;34m.\u001b[0m\u001b[0mcolumns\u001b[0m\u001b[0;34m]\u001b[0m\u001b[0;34m\u001b[0m\u001b[0m\n\u001b[1;32m      5\u001b[0m \u001b[0;32mfor\u001b[0m \u001b[0mdf_l\u001b[0m \u001b[0;32min\u001b[0m \u001b[0mtemp\u001b[0m\u001b[0;34m:\u001b[0m\u001b[0;34m\u001b[0m\u001b[0m\n",
      "\u001b[0;31mNameError\u001b[0m: name 'diabetes_df' is not defined"
     ]
    }
   ],
   "source": [
    "df_plot = diabetes_df[['year', 'value', 'confidence_interval', 'confidence_interval_1']]\n",
    "df_plot = df_plot.set_index('year')\n",
    "\n",
    "temp = [df_plot[[col]] for col in df_plot.columns]\n",
    "for df_l in temp:\n",
    "    df_l['kind'] = df_l.columns[0]\n",
    "    df_l.columns = ['Y-Value', 'kind']\n",
    "temp[0]\n",
    "\n",
    "\n",
    "#df_plot2 = pd.concat(temp)\n",
    "tmp"
   ]
  },
  {
   "cell_type": "code",
   "execution_count": 294,
   "metadata": {},
   "outputs": [
    {
     "data": {
      "image/png": "[encoded data removed]",
      "text/plain": [
       "<Figure size 432x288 with 1 Axes>"
      ]
     },
     "metadata": {},
     "output_type": "display_data"
    }
   ],
   "source": [
    "ax = sns.barplot(x=df_plot2.index, y=\"Y-Value\", hue=\"kind\", data=df_plot2)"
   ]
  },
  {
   "cell_type": "code",
   "execution_count": null,
   "metadata": {},
   "outputs": [],
   "source": []
  },
  {
   "cell_type": "code",
   "execution_count": null,
   "metadata": {},
   "outputs": [],
   "source": []
  }
 ],
 "metadata": {
  "kernelspec": {
   "display_name": "Python 3",
   "language": "python",
   "name": "python3"
  },
  "language_info": {
   "codemirror_mode": {
    "name": "ipython",
    "version": 3
   },
   "file_extension": ".py",
   "mimetype": "text/x-python",
   "name": "python",
   "nbconvert_exporter": "python",
   "pygments_lexer": "ipython3",
   "version": "3.6.5"
  }
 },
 "nbformat": 4,
 "nbformat_minor": 2
}
