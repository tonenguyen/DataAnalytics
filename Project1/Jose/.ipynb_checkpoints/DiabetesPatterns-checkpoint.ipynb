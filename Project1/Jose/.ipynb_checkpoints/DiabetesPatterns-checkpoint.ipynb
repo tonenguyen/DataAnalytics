{
 "cells": [
  {
   "cell_type": "code",
   "execution_count": 3,
   "metadata": {},
   "outputs": [
    {
     "name": "stdout",
     "output_type": "stream",
     "text": [
      "73\n"
     ]
    }
   ],
   "source": [
    "import matplotlib.pyplot as plt\n",
    "import pandas as pd\n",
    "import numpy as np\n",
    "import itertools\n",
    "\n",
    "# File to Load (Remember to change these)\n",
    "#file_to_load = \"CaliforniaDiabetes.csv\"\n",
    "file_to_load = \"./Resources/DM_PREV_ALL_STATES.csv\"\n",
    "income_to_load = \"./Resources/WikiIncomeSource.csv\"\n",
    "dData = pd.read_csv(file_to_load)\n",
    "iData = pd.read_csv(income_to_load)\n",
    "print(len(dData.columns))\n",
    "\n",
    "\n",
    "x = [3, 5,6,7,8, 9]\n",
    "drop = []\n",
    "\n",
    "data = pd.DataFrame(x)\n",
    "\n",
    "for x in range(9):\n",
    "    data[x+1] = data[x]+7\n",
    "for x in data.columns:    \n",
    "    drop.append(data[x].values.tolist())\n",
    "\n",
    "    \n",
    "cols =  list( itertools.chain.from_iterable(drop)) \n",
    "\n",
    "iData.columns = ['Rank', 'State', 'County', 'Per Capita Income', 'Median Household Income', 'Median Family Income', 'Population', 'N# of households']\n",
    "incomeData = iData.dropna()\n",
    "\n",
    "\n"
   ]
  },
  {
   "cell_type": "code",
   "execution_count": 1,
   "metadata": {},
   "outputs": [
    {
     "ename": "NameError",
     "evalue": "name 'iData' is not defined",
     "output_type": "error",
     "traceback": [
      "\u001b[0;31m---------------------------------------------------------------------------\u001b[0m",
      "\u001b[0;31mNameError\u001b[0m                                 Traceback (most recent call last)",
      "\u001b[0;32m<ipython-input-1-d87cf955b331>\u001b[0m in \u001b[0;36m<module>\u001b[0;34m\u001b[0m\n\u001b[0;32m----> 1\u001b[0;31m \u001b[0miData\u001b[0m\u001b[0;34m.\u001b[0m\u001b[0mhead\u001b[0m\u001b[0;34m(\u001b[0m\u001b[0;36m3\u001b[0m\u001b[0;34m)\u001b[0m\u001b[0;34m\u001b[0m\u001b[0m\n\u001b[0m",
      "\u001b[0;31mNameError\u001b[0m: name 'iData' is not defined"
     ]
    }
   ],
   "source": [
    "dData.head(3)"
   ]
  },
  {
   "cell_type": "code",
   "execution_count": 138,
   "metadata": {},
   "outputs": [
    {
     "name": "stderr",
     "output_type": "stream",
     "text": [
      "C:\\Study\\Anaconda3v2\\lib\\site-packages\\ipykernel_launcher.py:7: SettingWithCopyWarning: \n",
      "A value is trying to be set on a copy of a slice from a DataFrame.\n",
      "Try using .loc[row_indexer,col_indexer] = value instead\n",
      "\n",
      "See the caveats in the documentation: http://pandas.pydata.org/pandas-docs/stable/indexing.html#indexing-view-versus-copy\n",
      "  import sys\n",
      "C:\\Study\\Anaconda3v2\\lib\\site-packages\\ipykernel_launcher.py:21: SettingWithCopyWarning: \n",
      "A value is trying to be set on a copy of a slice from a DataFrame.\n",
      "Try using .loc[row_indexer,col_indexer] = value instead\n",
      "\n",
      "See the caveats in the documentation: http://pandas.pydata.org/pandas-docs/stable/indexing.html#indexing-view-versus-copy\n"
     ]
    }
   ],
   "source": [
    "\n",
    "columnInfo = list(dData.columns)\n",
    "df = diabetesData = dData.drop(dData.columns[cols],axis=1)\n",
    "df.columns = df.iloc[0]\n",
    "df = df[1:]\n",
    "A = pd.Series(df['County'].replace(' County', '', regex=True))\n",
    "df['County'] = A\n",
    "\n",
    "\n",
    "#df.head(200) #.tail(100).head(10)\n",
    "years = [each  for each in columnInfo if \"20\" and not \"Un\" in each]\n",
    "\n",
    "#percentcols = [percent.index(each) for each in percent if \"percent\" in each]\n",
    "#df.drop(dData.columns[:, \"percent\"],axis=1)\n",
    "columnInfo\n",
    "df = df.drop(\"FIPS Codes\", axis=1)\n",
    "\n",
    "colslabel = ['State', 'County'] + years[1:]\n",
    "df.columns = colslabel\n",
    "incomeData \n",
    "incomeData['County'] = pd.Series(incomeData['County'].replace(' County', '', regex=True))\n",
    "# df"
   ]
  },
  {
   "cell_type": "code",
   "execution_count": 147,
   "metadata": {},
   "outputs": [
    {
     "name": "stdout",
     "output_type": "stream",
     "text": [
      "Index(['Rank', 'State', 'County', 'Per Capita Income',\n",
      "       'Median Household Income', 'Median Family Income', 'Population',\n",
      "       'N# of households', '2004', '2005', '2006', '2007', '2008', '2009',\n",
      "       '2010', '2011', '2012', '2013'],\n",
      "      dtype='object')\n"
     ]
    }
   ],
   "source": [
    "columnInfo = list(df.columns)\n",
    "#df.columns = df.iloc[0]\n",
    "#incomeData.loc[incomeData[\"State\"]==\"Alabama\"]\n",
    "print(details.columns)\n",
    "details = pd.merge(incomeData, df, on=['County','State'])"
   ]
  },
  {
   "cell_type": "code",
   "execution_count": 167,
   "metadata": {
    "scrolled": true
   },
   "outputs": [],
   "source": [
    "year2013 = details.loc[:, ['Rank', 'State', 'County', 'Per Capita Income', 'Median Household Income', 'Median Family Income', 'Population', '2013']]\n",
    "\n",
    "\n"
   ]
  },
  {
   "cell_type": "code",
   "execution_count": 163,
   "metadata": {},
   "outputs": [],
   "source": [
    "year2013['2013'] = year2013['2013'].astype(float)\n"
   ]
  },
  {
   "cell_type": "code",
   "execution_count": 2,
   "metadata": {},
   "outputs": [
    {
     "ename": "NameError",
     "evalue": "name 'year2013' is not defined",
     "output_type": "error",
     "traceback": [
      "\u001b[0;31m---------------------------------------------------------------------------\u001b[0m",
      "\u001b[0;31mNameError\u001b[0m                                 Traceback (most recent call last)",
      "\u001b[0;32m<ipython-input-2-30db03c0fd8d>\u001b[0m in \u001b[0;36m<module>\u001b[0;34m\u001b[0m\n\u001b[0;32m----> 1\u001b[0;31m \u001b[0myear2013\u001b[0m\u001b[0;34m\u001b[0m\u001b[0m\n\u001b[0m",
      "\u001b[0;31mNameError\u001b[0m: name 'year2013' is not defined"
     ]
    }
   ],
   "source": [
    "year2013"
   ]
  },
  {
   "cell_type": "code",
   "execution_count": 164,
   "metadata": {},
   "outputs": [
    {
     "data": {
      "text/plain": [
       "Rank                        object\n",
       "State                       object\n",
       "County                      object\n",
       "Per Capita Income           object\n",
       "Median Household Income     object\n",
       "Median Family Income        object\n",
       "Population                  object\n",
       "2013                       float64\n",
       "dtype: object"
      ]
     },
     "execution_count": 164,
     "metadata": {},
     "output_type": "execute_result"
    }
   ],
   "source": [
    "year2013.dtypes"
   ]
  },
  {
   "cell_type": "code",
   "execution_count": 1,
   "metadata": {},
   "outputs": [
    {
     "ename": "NameError",
     "evalue": "name 'year2013' is not defined",
     "output_type": "error",
     "traceback": [
      "\u001b[0;31m---------------------------------------------------------------------------\u001b[0m",
      "\u001b[0;31mNameError\u001b[0m                                 Traceback (most recent call last)",
      "\u001b[0;32m<ipython-input-1-a35397050e03>\u001b[0m in \u001b[0;36m<module>\u001b[0;34m\u001b[0m\n\u001b[0;32m----> 1\u001b[0;31m \u001b[0mdf_plot\u001b[0m \u001b[0;34m=\u001b[0m \u001b[0myear2013\u001b[0m\u001b[0;34m.\u001b[0m\u001b[0msort_values\u001b[0m\u001b[0;34m(\u001b[0m\u001b[0mby\u001b[0m\u001b[0;34m=\u001b[0m\u001b[0;34m'2013'\u001b[0m\u001b[0;34m,\u001b[0m \u001b[0mascending\u001b[0m\u001b[0;34m=\u001b[0m\u001b[0;32mFalse\u001b[0m\u001b[0;34m)\u001b[0m\u001b[0;34m\u001b[0m\u001b[0m\n\u001b[0m",
      "\u001b[0;31mNameError\u001b[0m: name 'year2013' is not defined"
     ]
    }
   ],
   "source": [
    "df_plot = year2013.sort_values(by='2013', ascending=False)"
   ]
  },
  {
   "cell_type": "code",
   "execution_count": null,
   "metadata": {},
   "outputs": [],
   "source": []
  }
 ],
 "metadata": {
  "kernelspec": {
   "display_name": "Python 3",
   "language": "python",
   "name": "python3"
  },
  "language_info": {
   "codemirror_mode": {
    "name": "ipython",
    "version": 3
   },
   "file_extension": ".py",
   "mimetype": "text/x-python",
   "name": "python",
   "nbconvert_exporter": "python",
   "pygments_lexer": "ipython3",
   "version": "3.6.5"
  }
 },
 "nbformat": 4,
 "nbformat_minor": 2
}
