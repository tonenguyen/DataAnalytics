{
 "cells": [
  {
   "cell_type": "code",
   "execution_count": 40,
   "metadata": {},
   "outputs": [],
   "source": [
    "import plotly.plotly as py\n",
    "import plotly.figure_factory as ff\n",
    "\n",
    "import numpy as np\n",
    "import pandas as pd\n",
    "\n",
    "diabetes_county = pd.read_csv('./Resources/DM_PREV_ALL_STATES.csv')"
   ]
  },
  {
   "cell_type": "code",
   "execution_count": 41,
   "metadata": {},
   "outputs": [
    {
     "data": {
      "text/html": [
       "<div>\n",
       "<style scoped>\n",
       "    .dataframe tbody tr th:only-of-type {\n",
       "        vertical-align: middle;\n",
       "    }\n",
       "\n",
       "    .dataframe tbody tr th {\n",
       "        vertical-align: top;\n",
       "    }\n",
       "\n",
       "    .dataframe thead th {\n",
       "        text-align: right;\n",
       "    }\n",
       "</style>\n",
       "<table border=\"1\" class=\"dataframe\">\n",
       "  <thead>\n",
       "    <tr style=\"text-align: right;\">\n",
       "      <th></th>\n",
       "      <th>State</th>\n",
       "      <th>FIPS Codes</th>\n",
       "      <th>County</th>\n",
       "      <th>number</th>\n",
       "      <th>percent</th>\n",
       "      <th>lower confidence limit</th>\n",
       "      <th>upper confidence limit</th>\n",
       "      <th>age-adjusted percent</th>\n",
       "      <th>age-adjusted lower confidence limit</th>\n",
       "      <th>age-adjusted upper confidence limit</th>\n",
       "      <th>...</th>\n",
       "      <th>age-adjusted percent.8</th>\n",
       "      <th>age-adjusted lower confidence limit.8</th>\n",
       "      <th>age-adjusted upper confidence limit.8</th>\n",
       "      <th>number.9</th>\n",
       "      <th>percent.9</th>\n",
       "      <th>lower confidence limit.9</th>\n",
       "      <th>upper confidence limit.9</th>\n",
       "      <th>age-adjusted percent.9</th>\n",
       "      <th>age-adjusted lower confidence limit.9</th>\n",
       "      <th>age-adjusted upper confidence limit.9</th>\n",
       "    </tr>\n",
       "  </thead>\n",
       "  <tbody>\n",
       "    <tr>\n",
       "      <th>0</th>\n",
       "      <td>Alabama</td>\n",
       "      <td>1001</td>\n",
       "      <td>Autauga County</td>\n",
       "      <td>3368</td>\n",
       "      <td>10</td>\n",
       "      <td>7.8</td>\n",
       "      <td>12.8</td>\n",
       "      <td>9.9</td>\n",
       "      <td>7.8</td>\n",
       "      <td>12.6</td>\n",
       "      <td>...</td>\n",
       "      <td>11.1</td>\n",
       "      <td>8.8</td>\n",
       "      <td>13.8</td>\n",
       "      <td>5144</td>\n",
       "      <td>13</td>\n",
       "      <td>10.5</td>\n",
       "      <td>15.8</td>\n",
       "      <td>11.9</td>\n",
       "      <td>9.6</td>\n",
       "      <td>14.6</td>\n",
       "    </tr>\n",
       "    <tr>\n",
       "      <th>1</th>\n",
       "      <td>Alabama</td>\n",
       "      <td>1003</td>\n",
       "      <td>Baldwin County</td>\n",
       "      <td>9509</td>\n",
       "      <td>8.1</td>\n",
       "      <td>6.5</td>\n",
       "      <td>9.9</td>\n",
       "      <td>7.2</td>\n",
       "      <td>5.7</td>\n",
       "      <td>9</td>\n",
       "      <td>...</td>\n",
       "      <td>9.1</td>\n",
       "      <td>7.6</td>\n",
       "      <td>10.6</td>\n",
       "      <td>15367</td>\n",
       "      <td>10.4</td>\n",
       "      <td>8.7</td>\n",
       "      <td>12</td>\n",
       "      <td>8.8</td>\n",
       "      <td>7.3</td>\n",
       "      <td>10.2</td>\n",
       "    </tr>\n",
       "    <tr>\n",
       "      <th>2</th>\n",
       "      <td>Alabama</td>\n",
       "      <td>1005</td>\n",
       "      <td>Barbour County</td>\n",
       "      <td>2117</td>\n",
       "      <td>10.1</td>\n",
       "      <td>7.9</td>\n",
       "      <td>12.8</td>\n",
       "      <td>9.7</td>\n",
       "      <td>7.7</td>\n",
       "      <td>12.2</td>\n",
       "      <td>...</td>\n",
       "      <td>14.9</td>\n",
       "      <td>11.9</td>\n",
       "      <td>18.4</td>\n",
       "      <td>3813</td>\n",
       "      <td>18.4</td>\n",
       "      <td>14.9</td>\n",
       "      <td>22.9</td>\n",
       "      <td>16.9</td>\n",
       "      <td>13.5</td>\n",
       "      <td>21.2</td>\n",
       "    </tr>\n",
       "  </tbody>\n",
       "</table>\n",
       "<p>3 rows × 73 columns</p>\n",
       "</div>"
      ],
      "text/plain": [
       "     State  FIPS Codes          County number percent lower confidence limit  \\\n",
       "0  Alabama        1001  Autauga County   3368      10                    7.8   \n",
       "1  Alabama        1003  Baldwin County   9509     8.1                    6.5   \n",
       "2  Alabama        1005  Barbour County   2117    10.1                    7.9   \n",
       "\n",
       "  upper confidence limit age-adjusted percent  \\\n",
       "0                   12.8                  9.9   \n",
       "1                    9.9                  7.2   \n",
       "2                   12.8                  9.7   \n",
       "\n",
       "  age-adjusted lower confidence limit age-adjusted upper confidence limit  \\\n",
       "0                                 7.8                                12.6   \n",
       "1                                 5.7                                   9   \n",
       "2                                 7.7                                12.2   \n",
       "\n",
       "   ... age-adjusted percent.8 age-adjusted lower confidence limit.8  \\\n",
       "0  ...                   11.1                                   8.8   \n",
       "1  ...                    9.1                                   7.6   \n",
       "2  ...                   14.9                                  11.9   \n",
       "\n",
       "  age-adjusted upper confidence limit.8 number.9 percent.9  \\\n",
       "0                                  13.8     5144        13   \n",
       "1                                  10.6    15367      10.4   \n",
       "2                                  18.4     3813      18.4   \n",
       "\n",
       "  lower confidence limit.9 upper confidence limit.9 age-adjusted percent.9  \\\n",
       "0                     10.5                     15.8                   11.9   \n",
       "1                      8.7                       12                    8.8   \n",
       "2                     14.9                     22.9                   16.9   \n",
       "\n",
       "  age-adjusted lower confidence limit.9 age-adjusted upper confidence limit.9  \n",
       "0                                   9.6                                  14.6  \n",
       "1                                   7.3                                  10.2  \n",
       "2                                  13.5                                  21.2  \n",
       "\n",
       "[3 rows x 73 columns]"
      ]
     },
     "execution_count": 41,
     "metadata": {},
     "output_type": "execute_result"
    }
   ],
   "source": [
    "diabetes_county.head(3)"
   ]
  },
  {
   "cell_type": "code",
   "execution_count": 42,
   "metadata": {},
   "outputs": [],
   "source": [
    "#states_df.loc[index, 'code'] = abrev"
   ]
  },
  {
   "cell_type": "code",
   "execution_count": 43,
   "metadata": {},
   "outputs": [],
   "source": [
    "#diabetes_county.loc[96, 'FIPS Codes'] = '02275'"
   ]
  },
  {
   "cell_type": "code",
   "execution_count": 44,
   "metadata": {},
   "outputs": [],
   "source": [
    "#diabetes_county[diabetes_county['FIPS Codes'] == '02275']"
   ]
  },
  {
   "cell_type": "code",
   "execution_count": null,
   "metadata": {},
   "outputs": [],
   "source": []
  },
  {
   "cell_type": "code",
   "execution_count": null,
   "metadata": {},
   "outputs": [],
   "source": []
  },
  {
   "cell_type": "code",
   "execution_count": 49,
   "metadata": {},
   "outputs": [
    {
     "name": "stdout",
     "output_type": "stream",
     "text": [
      "The draw time for this plot will be slow for clients without much RAM.\n"
     ]
    },
    {
     "name": "stderr",
     "output_type": "stream",
     "text": [
      "/home/jmpichar/.local/lib/python3.6/site-packages/plotly/api/v1/clientresp.py:40: UserWarning:\n",
      "\n",
      "Estimated Draw Time Slow\n",
      "\n"
     ]
    },
    {
     "data": {
      "text/html": [
       "<iframe id=\"igraph\" scrolling=\"no\" style=\"border:none;\" seamless=\"seamless\" src=\"https://plot.ly/~jmpichar/6.embed\" height=\"450px\" width=\"900px\"></iframe>"
      ],
      "text/plain": [
       "<plotly.tools.PlotlyDisplay object>"
      ]
     },
     "execution_count": 49,
     "metadata": {},
     "output_type": "execute_result"
    }
   ],
   "source": [
    "colorscale = [\"#f7fbff\", \"#ebf3fb\", \"#deebf7\", \"#d2e3f3\", \"#c6dbef\", \"#b3d2e9\", \"#9ecae1\",\n",
    "    \"#85bcdb\", \"#6baed6\", \"#57a0ce\", \"#4292c6\", \"#3082be\", \"#2171b5\", \"#1361a9\",\n",
    "    \"#08519c\", \"#0b4083\", \"#08306b\"\n",
    "]\n",
    "endpts = list(np.linspace(1, 12, len(colorscale) - 1))\n",
    "scl = [\n",
    "    [0.0, 'rgb(255,215,0)'],\n",
    "    [0.25, 'rgb(255,165,0)'],\n",
    "    [0.5,  'rgb(255,135,0)'],\n",
    "    [0.75, 'rgb(255,75,0)'],\n",
    "    [1.0,  'rgb(255,45,0)']\n",
    "]\n",
    "endpts = list(np.linspace(1, 12, len(scl) - 1))\n",
    "ips = diabetes_county['FIPS Codes'].tolist()\n",
    "values = diabetes_county['percent'].tolist()\n",
    "\n",
    "fig = ff.create_choropleth(\n",
    "    fips = fips, values = values, scope = ['usa'],\n",
    "    show_state_data = False,\n",
    "    show_hover = True, centroid_marker = {\n",
    "        'opacity': 0\n",
    "    },\n",
    "    asp = 2.9,\n",
    "    title = 'USA by Diabetes Prevalence by Counties %',\n",
    "    legend_title = '% Diabetes'\n",
    ")\n",
    "\n",
    "py.iplot(fig, filename = 'choropleth_full_usa')"
   ]
  },
  {
   "cell_type": "code",
   "execution_count": null,
   "metadata": {},
   "outputs": [],
   "source": []
  },
  {
   "cell_type": "code",
   "execution_count": null,
   "metadata": {},
   "outputs": [],
   "source": []
  }
 ],
 "metadata": {
  "kernelspec": {
   "display_name": "Python 3",
   "language": "python",
   "name": "python3"
  },
  "language_info": {
   "codemirror_mode": {
    "name": "ipython",
    "version": 3
   },
   "file_extension": ".py",
   "mimetype": "text/x-python",
   "name": "python",
   "nbconvert_exporter": "python",
   "pygments_lexer": "ipython3",
   "version": "3.6.5"
  }
 },
 "nbformat": 4,
 "nbformat_minor": 2
}
